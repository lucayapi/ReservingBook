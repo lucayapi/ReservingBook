{
 "cells": [
  {
   "cell_type": "markdown",
   "metadata": {},
   "source": [
    "# CHAIN LADDER"
   ]
  },
  {
   "cell_type": "code",
   "execution_count": 3,
   "metadata": {},
   "outputs": [],
   "source": [
    "import numpy as np\n",
    "import pandas as pd\n"
   ]
  },
  {
   "cell_type": "markdown",
   "metadata": {},
   "source": [
    "## Importation des données"
   ]
  },
  {
   "cell_type": "code",
   "execution_count": 7,
   "metadata": {},
   "outputs": [
    {
     "data": {
      "text/html": [
       "<div>\n",
       "<style scoped>\n",
       "    .dataframe tbody tr th:only-of-type {\n",
       "        vertical-align: middle;\n",
       "    }\n",
       "\n",
       "    .dataframe tbody tr th {\n",
       "        vertical-align: top;\n",
       "    }\n",
       "\n",
       "    .dataframe thead th {\n",
       "        text-align: right;\n",
       "    }\n",
       "</style>\n",
       "<table border=\"1\" class=\"dataframe\">\n",
       "  <thead>\n",
       "    <tr style=\"text-align: right;\">\n",
       "      <th></th>\n",
       "      <th>GroupCode</th>\n",
       "      <th>Company</th>\n",
       "      <th>AccidentYear</th>\n",
       "      <th>DevelopmentYear</th>\n",
       "      <th>Lag</th>\n",
       "      <th>CumulativeIncurred</th>\n",
       "      <th>CumulativePaid</th>\n",
       "      <th>IBNR</th>\n",
       "      <th>DirectEP</th>\n",
       "      <th>CededEP</th>\n",
       "      <th>NetEP</th>\n",
       "      <th>Single</th>\n",
       "      <th>Reserve1997</th>\n",
       "    </tr>\n",
       "  </thead>\n",
       "  <tbody>\n",
       "    <tr>\n",
       "      <th>0</th>\n",
       "      <td>337</td>\n",
       "      <td>California Cas Grp</td>\n",
       "      <td>1988</td>\n",
       "      <td>1988</td>\n",
       "      <td>1</td>\n",
       "      <td>445</td>\n",
       "      <td>9</td>\n",
       "      <td>394</td>\n",
       "      <td>1328</td>\n",
       "      <td>433</td>\n",
       "      <td>895</td>\n",
       "      <td>0</td>\n",
       "      <td>691</td>\n",
       "    </tr>\n",
       "    <tr>\n",
       "      <th>1</th>\n",
       "      <td>337</td>\n",
       "      <td>California Cas Grp</td>\n",
       "      <td>1988</td>\n",
       "      <td>1989</td>\n",
       "      <td>2</td>\n",
       "      <td>442</td>\n",
       "      <td>36</td>\n",
       "      <td>292</td>\n",
       "      <td>1328</td>\n",
       "      <td>433</td>\n",
       "      <td>895</td>\n",
       "      <td>0</td>\n",
       "      <td>691</td>\n",
       "    </tr>\n",
       "    <tr>\n",
       "      <th>2</th>\n",
       "      <td>337</td>\n",
       "      <td>California Cas Grp</td>\n",
       "      <td>1988</td>\n",
       "      <td>1990</td>\n",
       "      <td>3</td>\n",
       "      <td>471</td>\n",
       "      <td>70</td>\n",
       "      <td>140</td>\n",
       "      <td>1328</td>\n",
       "      <td>433</td>\n",
       "      <td>895</td>\n",
       "      <td>0</td>\n",
       "      <td>691</td>\n",
       "    </tr>\n",
       "    <tr>\n",
       "      <th>3</th>\n",
       "      <td>337</td>\n",
       "      <td>California Cas Grp</td>\n",
       "      <td>1988</td>\n",
       "      <td>1991</td>\n",
       "      <td>4</td>\n",
       "      <td>493</td>\n",
       "      <td>182</td>\n",
       "      <td>72</td>\n",
       "      <td>1328</td>\n",
       "      <td>433</td>\n",
       "      <td>895</td>\n",
       "      <td>0</td>\n",
       "      <td>691</td>\n",
       "    </tr>\n",
       "    <tr>\n",
       "      <th>4</th>\n",
       "      <td>337</td>\n",
       "      <td>California Cas Grp</td>\n",
       "      <td>1988</td>\n",
       "      <td>1992</td>\n",
       "      <td>5</td>\n",
       "      <td>488</td>\n",
       "      <td>300</td>\n",
       "      <td>160</td>\n",
       "      <td>1328</td>\n",
       "      <td>433</td>\n",
       "      <td>895</td>\n",
       "      <td>0</td>\n",
       "      <td>691</td>\n",
       "    </tr>\n",
       "  </tbody>\n",
       "</table>\n",
       "</div>"
      ],
      "text/plain": [
       "   GroupCode             Company  AccidentYear  DevelopmentYear  Lag  \\\n",
       "0        337  California Cas Grp          1988             1988    1   \n",
       "1        337  California Cas Grp          1988             1989    2   \n",
       "2        337  California Cas Grp          1988             1990    3   \n",
       "3        337  California Cas Grp          1988             1991    4   \n",
       "4        337  California Cas Grp          1988             1992    5   \n",
       "\n",
       "   CumulativeIncurred  CumulativePaid  IBNR  DirectEP  CededEP  NetEP  Single  \\\n",
       "0                 445               9   394      1328      433    895       0   \n",
       "1                 442              36   292      1328      433    895       0   \n",
       "2                 471              70   140      1328      433    895       0   \n",
       "3                 493             182    72      1328      433    895       0   \n",
       "4                 488             300   160      1328      433    895       0   \n",
       "\n",
       "   Reserve1997  \n",
       "0          691  \n",
       "1          691  \n",
       "2          691  \n",
       "3          691  \n",
       "4          691  "
      ]
     },
     "execution_count": 7,
     "metadata": {},
     "output_type": "execute_result"
    }
   ],
   "source": [
    "base=pd.read_csv(r\"C:\\Users\\luc-a\\Desktop\\BookReserving\\ReservingBook\\data\\othliab.csv\") \n",
    "base=base.iloc[:,1:]\n",
    "base.head()"
   ]
  },
  {
   "cell_type": "markdown",
   "metadata": {},
   "source": [
    "## "
   ]
  }
 ],
 "metadata": {
  "interpreter": {
   "hash": "6d3059ec050b57c207e367ff91d648997e83ddfa5d89936ee6c7b54af5a142b7"
  },
  "kernelspec": {
   "display_name": "Python 3.8.8 64-bit ('base': conda)",
   "language": "python",
   "name": "python3"
  },
  "language_info": {
   "codemirror_mode": {
    "name": "ipython",
    "version": 3
   },
   "file_extension": ".py",
   "mimetype": "text/x-python",
   "name": "python",
   "nbconvert_exporter": "python",
   "pygments_lexer": "ipython3",
   "version": "3.8.8"
  },
  "orig_nbformat": 4
 },
 "nbformat": 4,
 "nbformat_minor": 2
}
